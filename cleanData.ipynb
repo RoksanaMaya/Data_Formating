{
 "cells": [
  {
   "cell_type": "code",
   "execution_count": 1,
   "metadata": {},
   "outputs": [],
   "source": [
    "import pandas as pd\n",
    "import bangla\n",
    "import re\n",
    "from glob import glob\n",
    "#files = glob('./all_files/data_sources_files/930119_female/text*')\n",
    "#files\n",
    "file_name = '930157/930157_male'\n",
    "files = glob(\"./\"+file_name+\"/Text/930157*\")\n",
    "#files = glob('./all_files/data_sources_files/'+file_name+'/text*')\n",
    "#files"
   ]
  },
  {
   "attachments": {},
   "cell_type": "markdown",
   "metadata": {},
   "source": [
    "###\n",
    "Import libraries and open the files"
   ]
  },
  {
   "cell_type": "code",
   "execution_count": 2,
   "metadata": {},
   "outputs": [
    {
     "data": {
      "text/plain": [
       "'e:\\\\Delduar_Voter List'"
      ]
     },
     "execution_count": 2,
     "metadata": {},
     "output_type": "execute_result"
    }
   ],
   "source": [
    "import os \n",
    "cwd = os.getcwd()\n",
    "cwd"
   ]
  },
  {
   "attachments": {},
   "cell_type": "markdown",
   "metadata": {},
   "source": [
    "##\n",
    "Shows the file path"
   ]
  },
  {
   "cell_type": "code",
   "execution_count": 3,
   "metadata": {},
   "outputs": [
    {
     "name": "stdout",
     "output_type": "stream",
     "text": [
      "file No : ./930157/930157_male/Text\\930157_male_-jpg (1).txt\n",
      "file No : ./930157/930157_male/Text\\930157_male_-jpg (10).txt\n",
      "file No : ./930157/930157_male/Text\\930157_male_-jpg (11).txt\n",
      "file No : ./930157/930157_male/Text\\930157_male_-jpg (12).txt\n",
      "file No : ./930157/930157_male/Text\\930157_male_-jpg (13).txt\n",
      "file No : ./930157/930157_male/Text\\930157_male_-jpg (14).txt\n",
      "file No : ./930157/930157_male/Text\\930157_male_-jpg (15).txt\n",
      "file No : ./930157/930157_male/Text\\930157_male_-jpg (16).txt\n",
      "file No : ./930157/930157_male/Text\\930157_male_-jpg (17).txt\n",
      "file No : ./930157/930157_male/Text\\930157_male_-jpg (18).txt\n",
      "file No : ./930157/930157_male/Text\\930157_male_-jpg (19).txt\n",
      "file No : ./930157/930157_male/Text\\930157_male_-jpg (2).txt\n",
      "file No : ./930157/930157_male/Text\\930157_male_-jpg (20).txt\n",
      "file No : ./930157/930157_male/Text\\930157_male_-jpg (21).txt\n",
      "file No : ./930157/930157_male/Text\\930157_male_-jpg (22).txt\n",
      "file No : ./930157/930157_male/Text\\930157_male_-jpg (23).txt\n",
      "file No : ./930157/930157_male/Text\\930157_male_-jpg (24).txt\n",
      "file No : ./930157/930157_male/Text\\930157_male_-jpg (25).txt\n",
      "file No : ./930157/930157_male/Text\\930157_male_-jpg (26).txt\n",
      "file No : ./930157/930157_male/Text\\930157_male_-jpg (27).txt\n",
      "file No : ./930157/930157_male/Text\\930157_male_-jpg (28).txt\n",
      "file No : ./930157/930157_male/Text\\930157_male_-jpg (29).txt\n",
      "file No : ./930157/930157_male/Text\\930157_male_-jpg (3).txt\n",
      "file No : ./930157/930157_male/Text\\930157_male_-jpg (30).txt\n",
      "file No : ./930157/930157_male/Text\\930157_male_-jpg (31).txt\n",
      "file No : ./930157/930157_male/Text\\930157_male_-jpg (32).txt\n",
      "file No : ./930157/930157_male/Text\\930157_male_-jpg (33).txt\n",
      "file No : ./930157/930157_male/Text\\930157_male_-jpg (34).txt\n",
      "file No : ./930157/930157_male/Text\\930157_male_-jpg (35).txt\n",
      "file No : ./930157/930157_male/Text\\930157_male_-jpg (36).txt\n",
      "file No : ./930157/930157_male/Text\\930157_male_-jpg (37).txt\n",
      "file No : ./930157/930157_male/Text\\930157_male_-jpg (38).txt\n",
      "file No : ./930157/930157_male/Text\\930157_male_-jpg (39).txt\n",
      "file No : ./930157/930157_male/Text\\930157_male_-jpg (4).txt\n",
      "file No : ./930157/930157_male/Text\\930157_male_-jpg (40).txt\n",
      "file No : ./930157/930157_male/Text\\930157_male_-jpg (41).txt\n",
      "file No : ./930157/930157_male/Text\\930157_male_-jpg (42).txt\n",
      "file No : ./930157/930157_male/Text\\930157_male_-jpg (43).txt\n",
      "file No : ./930157/930157_male/Text\\930157_male_-jpg (44).txt\n",
      "file No : ./930157/930157_male/Text\\930157_male_-jpg (45).txt\n",
      "file No : ./930157/930157_male/Text\\930157_male_-jpg (46).txt\n",
      "file No : ./930157/930157_male/Text\\930157_male_-jpg (47).txt\n",
      "file No : ./930157/930157_male/Text\\930157_male_-jpg (48).txt\n",
      "file No : ./930157/930157_male/Text\\930157_male_-jpg (49).txt\n",
      "file No : ./930157/930157_male/Text\\930157_male_-jpg (5).txt\n",
      "file No : ./930157/930157_male/Text\\930157_male_-jpg (50).txt\n",
      "file No : ./930157/930157_male/Text\\930157_male_-jpg (51).txt\n",
      "file No : ./930157/930157_male/Text\\930157_male_-jpg (52).txt\n",
      "file No : ./930157/930157_male/Text\\930157_male_-jpg (53).txt\n",
      "file No : ./930157/930157_male/Text\\930157_male_-jpg (54).txt\n",
      "file No : ./930157/930157_male/Text\\930157_male_-jpg (55).txt\n",
      "file No : ./930157/930157_male/Text\\930157_male_-jpg (56).txt\n",
      "file No : ./930157/930157_male/Text\\930157_male_-jpg (57).txt\n",
      "file No : ./930157/930157_male/Text\\930157_male_-jpg (58).txt\n",
      "file No : ./930157/930157_male/Text\\930157_male_-jpg (59).txt\n",
      "file No : ./930157/930157_male/Text\\930157_male_-jpg (6).txt\n",
      "file No : ./930157/930157_male/Text\\930157_male_-jpg (60).txt\n",
      "file No : ./930157/930157_male/Text\\930157_male_-jpg (61).txt\n",
      "file No : ./930157/930157_male/Text\\930157_male_-jpg (62).txt\n",
      "file No : ./930157/930157_male/Text\\930157_male_-jpg (63).txt\n",
      "file No : ./930157/930157_male/Text\\930157_male_-jpg (64).txt\n",
      "file No : ./930157/930157_male/Text\\930157_male_-jpg (65).txt\n",
      "file No : ./930157/930157_male/Text\\930157_male_-jpg (66).txt\n",
      "file No : ./930157/930157_male/Text\\930157_male_-jpg (67).txt\n",
      "file No : ./930157/930157_male/Text\\930157_male_-jpg (7).txt\n",
      "file No : ./930157/930157_male/Text\\930157_male_-jpg (8).txt\n",
      "file No : ./930157/930157_male/Text\\930157_male_-jpg (9).txt\n",
      "file No : ./930157/930157_male/Text\\930157_male_-jpg.txt\n"
     ]
    }
   ],
   "source": [
    "from glob import glob\n",
    "files = glob(\"./\"+file_name+\"/Text/930157*\")\n",
    "new_lists = []\n",
    "\n",
    "for item in files:\n",
    "    print('file No : '+item)    \n",
    "    fh = open(item, 'r', encoding='utf-8')  \n",
    "    content_list = fh.readlines()    \n",
    "    lists = [x.strip() for x in content_list]\n",
    "     \n",
    "    \n",
    "    for item in lists:\n",
    "        item = item.replace('নাম', '').replace('ভােটার নং', '').replace('পিতা', '').replace('মাতা', '')\n",
    "        item = item.replace('পেশা', '').replace('জন্ম তারিখ', '').replace('ঠিকানা', '').replace('।', '').replace('.', '')\n",
    "        item = item.replace('জেলা: টাঙ্গাইল', '').replace('উপজেলা: দেলদুয়ার', '').replace('ইউনিয়ন: দেলদুয়ার', '')\n",
    "        item = item.replace('|', '').replace('-', '').replace(']', '').replace('[', '').replace('টাঙ্গাইল', '')\n",
    "        item = item.replace('\\n', '').replace('৭ ভোটার এলাকার', '')\n",
    "        item = item.replace('ফরম১', '').replace('কর্তন করা হয়েছে', '').replace('ডাকঘর: করটিয়া', '').replace('ভোটার এলাকার : মীরকুমুল্লি', '').replace('পুরুষ অঞ্চল', '')\n",
    "        item = item.replace('ময়মনসিংহ সিটি কর্পোরেশন/', '').replace('পৌরসভা', '').replace('৩ পুরুষ অঞ্চল', '').replace('পোষ্টকোড', '').replace('ওয়ার্ড নম্বর(ইউনিয়ন পরিষদের জন্য)', '')\n",
    "        item = item.replace('ভোটার এলাকার কোড', '').replace('পৌরসভা', '').replace('৩ পুরুষ অঞ্চল', '').replace('পোষ্টকোড', '').replace('ওয়ার্ড নম্বর(ইউনিয়ন পরিষদের জন্য)', '')\n",
    "        #print(item)\n",
    "        #print(item)\n",
    "        new_lists.append(item) \n",
    "#print(new_lists)\n",
    "#print(len(new_lists))\n",
    "\n",
    "#print('----------------------------------------/n')"
   ]
  },
  {
   "attachments": {},
   "cell_type": "markdown",
   "metadata": {},
   "source": [
    "Shows the file number and reads the content of the txt files.\n"
   ]
  },
  {
   "cell_type": "code",
   "execution_count": 4,
   "metadata": {},
   "outputs": [],
   "source": [
    "\n",
    "#convertng lists to string\n",
    "newstring=' '\n",
    "for words in new_lists:\n",
    "    newstring+=' '+words\n",
    "#print(newstring)\n",
    "new=[]\n",
    "new=list(newstring.split(\"দেলদুয়ার\")) # string to list\n",
    "#new"
   ]
  },
  {
   "attachments": {},
   "cell_type": "markdown",
   "metadata": {},
   "source": [
    "#\n",
    "Converts list to string. Splits and again creates new list to organise the data in a similar pattern."
   ]
  },
  {
   "cell_type": "code",
   "execution_count": 6,
   "metadata": {},
   "outputs": [],
   "source": [
    "df = pd.DataFrame(columns=['sl_no','name','votter_num','father_name','mother_name','profession','DOB','address1','address1', 'gender'])\n",
    "for i in range(len(new)):\n",
    "    words = new[i].split(\":\")\n",
    "    if len(words)>=8:\n",
    "        sl_no = words[0].replace('টাঙ্গাইল', '').replace('ডাকঘর', '').replace('ভোটার এলাকার', '').replace(',', '').replace('কর্তন করা হয়েছে', '').replace(',', '')\n",
    "        name = words[1].replace('ভোটার নং', '').replace('করটিয়া', '').replace('মীরকুমুল্লি', '').replace('ভোটার এলাকার কোড', '')\n",
    "        votter_no = words[2].replace('ভোটার নং', '').replace(' ', '').replace('ভোটার এলাকার কোড', '')\n",
    "        father_name = words[3].replace('ভোটার নং', '').replace(',', '').replace('ভোটার এলাকার কোড', '')\n",
    "        mother_name = words[4].replace('ভোটার এলাকার কোড', '').replace('ভোটার এলাকার কোড', '')\n",
    "        occupation = words[5].replace('ভোটার এলাকার কোড', '').replace(',', '')\n",
    "        birth_year =words[6].replace('ভোটার এলাকার কোড', '')\n",
    "        location1 = words[7].replace('ভোটার এলাকার কোড', '')\n",
    "        location2='দেলদুয়ার, টাঙ্গাইল'\n",
    "        gender=1\n",
    "        df.loc[i] = [sl_no, name,votter_no ,father_name, mother_name, occupation, birth_year, location1, location2, gender]    \n",
    "#df       "
   ]
  },
  {
   "attachments": {},
   "cell_type": "markdown",
   "metadata": {},
   "source": [
    "Splits each item of the list based on \":.\" Creates data frame. \n"
   ]
  },
  {
   "cell_type": "code",
   "execution_count": 84,
   "metadata": {},
   "outputs": [],
   "source": [
    "df.to_excel('930257_male_without_photo.xlsx', index=False)"
   ]
  },
  {
   "attachments": {},
   "cell_type": "markdown",
   "metadata": {},
   "source": [
    "Imports the data in an excel file"
   ]
  }
 ],
 "metadata": {
  "kernelspec": {
   "display_name": "Python 3",
   "language": "python",
   "name": "python3"
  },
  "language_info": {
   "codemirror_mode": {
    "name": "ipython",
    "version": 3
   },
   "file_extension": ".py",
   "mimetype": "text/x-python",
   "name": "python",
   "nbconvert_exporter": "python",
   "pygments_lexer": "ipython3",
   "version": "3.11.1"
  },
  "orig_nbformat": 4
 },
 "nbformat": 4,
 "nbformat_minor": 2
}
