{
 "cells": [
  {
   "attachments": {},
   "cell_type": "markdown",
   "metadata": {},
   "source": [
    "Import libraries and open the files"
   ]
  },
  {
   "cell_type": "code",
   "execution_count": 2,
   "metadata": {},
   "outputs": [],
   "source": [
    "import pandas as pd\n",
    "import bangla\n",
    "import re\n",
    "from glob import glob\n",
    "file_name = '930157/930157_male'\n",
    "files = glob(\"./\"+file_name+\"/Text/930157*\")\n",
    "#files"
   ]
  },
  {
   "attachments": {},
   "cell_type": "markdown",
   "metadata": {},
   "source": [
    "Shows the file path"
   ]
  },
  {
   "cell_type": "code",
   "execution_count": 3,
   "metadata": {},
   "outputs": [
    {
     "data": {
      "text/plain": [
       "'e:\\\\Delduar_Voter List'"
      ]
     },
     "execution_count": 3,
     "metadata": {},
     "output_type": "execute_result"
    }
   ],
   "source": [
    "import os \n",
    "cwd = os.getcwd()\n",
    "cwd"
   ]
  },
  {
   "attachments": {},
   "cell_type": "markdown",
   "metadata": {},
   "source": [
    "Shows the file number and reads the content of the txt files.\n"
   ]
  },
  {
   "cell_type": "code",
   "execution_count": 4,
   "metadata": {},
   "outputs": [],
   "source": [
    "from glob import glob\n",
    "files = glob(\"./\"+file_name+\"/Text/930157*\")\n",
    "new_lists = []\n",
    "\n",
    "for item in files:\n",
    "    print('file No : '+item)    \n",
    "    fh = open(item, 'r', encoding='utf-8')  \n",
    "    content_list = fh.readlines()    \n",
    "    lists = [x.strip() for x in content_list]\n",
    "     \n",
    "    \n",
    "    for item in lists:\n",
    "        item = item.replace('নাম', '').replace('ভােটার নং', '').replace('পিতা', '').replace('মাতা', '')\n",
    "        item = item.replace('পেশা', '').replace('জন্ম তারিখ', '').replace('ঠিকানা', '').replace('।', '').replace('.', '')\n",
    "        item = item.replace('জেলা: টাঙ্গাইল', '').replace('উপজেলা: দেলদুয়ার', '').replace('ইউনিয়ন: দেলদুয়ার', '')\n",
    "        item = item.replace('|', '').replace('-', '').replace(']', '').replace('[', '').replace('টাঙ্গাইল', '')\n",
    "        item = item.replace('\\n', '').replace('৭ ভোটার এলাকার', '')\n",
    "        item = item.replace('ফরম১', '').replace('কর্তন করা হয়েছে', '').replace('ডাকঘর: করটিয়া', '').replace('ভোটার এলাকার : মীরকুমুল্লি', '').replace('পুরুষ অঞ্চল', '')\n",
    "        item = item.replace('ময়মনসিংহ সিটি কর্পোরেশন/', '').replace('পৌরসভা', '').replace('৩ পুরুষ অঞ্চল', '').replace('পোষ্টকোড', '').replace('ওয়ার্ড নম্বর(ইউনিয়ন পরিষদের জন্য)', '')\n",
    "        item = item.replace('ভোটার এলাকার কোড', '').replace('পৌরসভা', '').replace('৩ পুরুষ অঞ্চল', '').replace('পোষ্টকোড', '').replace('ওয়ার্ড নম্বর(ইউনিয়ন পরিষদের জন্য)', '')\n",
    "        #print(item)\n",
    "        print(item)\n",
    "        new_lists.append(item) \n",
    "print(new_lists)\n",
    "#print(len(new_lists))\n",
    "\n",
    "#print('----------------------------------------/n')"
   ]
  },
  {
   "attachments": {},
   "cell_type": "markdown",
   "metadata": {},
   "source": [
    "\n",
    "Converts list to string. Splits and again creates new list to organise the data in a similar pattern."
   ]
  },
  {
   "cell_type": "code",
   "execution_count": 4,
   "metadata": {},
   "outputs": [],
   "source": [
    "\n",
    "#convertng lists to string\n",
    "newstring=' '\n",
    "for words in new_lists:\n",
    "    newstring+=' '+words\n",
    "print(newstring)\n",
    "new=[]\n",
    "new=list(newstring.split(\"দেলদুয়ার\")) # string to list\n",
    "new"
   ]
  },
  {
   "attachments": {},
   "cell_type": "markdown",
   "metadata": {},
   "source": [
    "Splits each item of the list based on \":.\" Creates data frame. "
   ]
  },
  {
   "cell_type": "code",
   "execution_count": 6,
   "metadata": {},
   "outputs": [],
   "source": [
    "df = pd.DataFrame(columns=['sl_no','name','votter_num','father_name','mother_name','profession','DOB','address', 'gender'])\n",
    "for i in range(len(new)):\n",
    "    words = new[i].split(\":\")\n",
    "    if len(words)>=8:\n",
    "        sl_no = words[0]\n",
    "        name = words[1]\n",
    "        votter_no = words[2]\n",
    "        father_name = words[3]\n",
    "        mother_name = words[4]\n",
    "        occupation = words[5]\n",
    "        birth_year =words[6]\n",
    "        location = words[7]\n",
    "        gender=1\n",
    "        df.loc[i] = [sl_no, name,votter_no ,father_name, mother_name, occupation, birth_year, location, gender]    \n",
    "#df       "
   ]
  },
  {
   "attachments": {},
   "cell_type": "markdown",
   "metadata": {},
   "source": [
    "Imports the data in an excel file\n"
   ]
  },
  {
   "cell_type": "code",
   "execution_count": 84,
   "metadata": {},
   "outputs": [],
   "source": [
    "df.to_excel('930257_male_without_photo.xlsx', index=False)"
   ]
  }
 ],
 "metadata": {
  "kernelspec": {
   "display_name": "Python 3",
   "language": "python",
   "name": "python3"
  },
  "language_info": {
   "codemirror_mode": {
    "name": "ipython",
    "version": 3
   },
   "file_extension": ".py",
   "mimetype": "text/x-python",
   "name": "python",
   "nbconvert_exporter": "python",
   "pygments_lexer": "ipython3",
   "version": "3.11.1"
  },
  "orig_nbformat": 4
 },
 "nbformat": 4,
 "nbformat_minor": 2
}
