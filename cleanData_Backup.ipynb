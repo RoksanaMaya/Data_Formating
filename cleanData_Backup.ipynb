{
 "cells": [
  {
   "cell_type": "code",
   "execution_count": null,
   "metadata": {},
   "outputs": [],
   "source": [
    "import pandas as pd\n",
    "import bangla\n",
    "import re\n",
    "from glob import glob\n",
    "#files = glob('./all_files/data_sources_files/930119_female/text*')\n",
    "#files\n",
    "\n",
    "folder_name='930157'\n",
    "gender_value=0\n",
    "if gender_value==0:\n",
    "    gender=\"Female\"\n",
    "else:\n",
    "    gender=\"Male\"\n",
    "\n",
    "file_name = '/'+folder_name+'_'+gender\n",
    "files = glob(\"./\"+folder_name+'/'+file_name+'/Text/'+folder_name+'*')\n",
    "#files = glob('./all_files/data_sources_files/'+file_name+'/text*')\n",
    "files"
   ]
  },
  {
   "attachments": {},
   "cell_type": "markdown",
   "metadata": {},
   "source": [
    "###\n",
    "Import libraries and open the files"
   ]
  },
  {
   "cell_type": "code",
   "execution_count": null,
   "metadata": {},
   "outputs": [],
   "source": [
    "import os \n",
    "cwd = os.getcwd()\n",
    "cwd"
   ]
  },
  {
   "attachments": {},
   "cell_type": "markdown",
   "metadata": {},
   "source": [
    "##\n",
    "Shows the file path"
   ]
  },
  {
   "cell_type": "code",
   "execution_count": null,
   "metadata": {},
   "outputs": [],
   "source": [
    "from glob import glob\n",
    "files = glob(\"./\"+folder_name+'/'+file_name+'/Text/'+folder_name+'*')\n",
    "new_lists = []\n",
    "\n",
    "for item in files:\n",
    "    print('file No : '+item)    \n",
    "    fh = open(item, 'r', encoding='utf-8')  \n",
    "    content_list = fh.readlines()    \n",
    "    lists = [x.strip() for x in content_list]\n",
    "     \n",
    "    \n",
    "    for item in lists:\n",
    "        new_lists.append(item) \n",
    "print(new_lists)\n",
    "#print(len(new_lists))\n",
    "\n",
    "print('----------------------------------------/n')"
   ]
  },
  {
   "attachments": {},
   "cell_type": "markdown",
   "metadata": {},
   "source": [
    "Shows the file number and reads the content of the txt files.\n"
   ]
  },
  {
   "cell_type": "code",
   "execution_count": null,
   "metadata": {},
   "outputs": [],
   "source": [
    "\n",
    "#convertng lists to string\n",
    "newstring=' '\n",
    "for words in new_lists:\n",
    "    newstring+=' '+words\n",
    "#print(newstring)\n",
    "new=[]\n",
    "new=list(newstring.split(\"ABC\")) # string to list\n",
    "new"
   ]
  },
  {
   "attachments": {},
   "cell_type": "markdown",
   "metadata": {},
   "source": [
    "#\n",
    "Converts list to string. Splits and again creates new list to organise the data in a similar pattern."
   ]
  },
  {
   "cell_type": "code",
   "execution_count": null,
   "metadata": {},
   "outputs": [],
   "source": [
    "df = pd.DataFrame(columns=['sl_no','name','votter_num','father_name','mother_name','profession','DOB','address1','address2', 'gender'])\n",
    "for i in range(len(new)):\n",
    "    words = new[i].split(\":\")\n",
    "    if len(words)>=8:\n",
    "        sl_no = words[0]\n",
    "        name = words[1]\n",
    "        votter_no = words[2]\n",
    "        father_name = words[3]\n",
    "        mother_name = words[4]\n",
    "        occupation = words[5]\n",
    "        birth_year =words[6]\n",
    "        location1 = words[7]\n",
    "        location2='ABC'\n",
    "        gender=gender_value\n",
    "        df.loc[i] = [sl_no, name,votter_no ,father_name, mother_name, occupation, birth_year, location1, location2, gender]    \n",
    "df  \n",
    "# sorted_df = df.sort_values('sl_no', ascending=True)   \n",
    "# sorted_df   "
   ]
  },
  {
   "attachments": {},
   "cell_type": "markdown",
   "metadata": {},
   "source": [
    "Splits each item of the list based on \":.\" Creates data frame. \n"
   ]
  },
  {
   "cell_type": "code",
   "execution_count": null,
   "metadata": {},
   "outputs": [],
   "source": [
    "export_file_name = 'all_excel_files'\n",
    "#files = glob(\"./\"+file_name+\"/Text/930157*\")\n",
    "df.to_excel(export_file_name +'/'+file_name+'.xlsx', index=False)"
   ]
  },
  {
   "attachments": {},
   "cell_type": "markdown",
   "metadata": {},
   "source": [
    "Imports the data in an excel file"
   ]
  }
 ],
 "metadata": {
  "kernelspec": {
   "display_name": "Python 3",
   "language": "python",
   "name": "python3"
  },
  "language_info": {
   "codemirror_mode": {
    "name": "ipython",
    "version": 3
   },
   "file_extension": ".py",
   "mimetype": "text/x-python",
   "name": "python",
   "nbconvert_exporter": "python",
   "pygments_lexer": "ipython3",
   "version": "3.11.1"
  },
  "orig_nbformat": 4
 },
 "nbformat": 4,
 "nbformat_minor": 2
}
